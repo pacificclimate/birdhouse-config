{
 "cells": [
  {
   "cell_type": "markdown",
   "metadata": {},
   "source": [
    "# Welcome to the DACCS JupyterLab\n",
    "\n",
    "This is PCIC's JupyterLab server for the DACCS platform. DACCS is a science gateway for both climate data and analytical services:\n",
    "\n",
    "- NetCDF datasets: [THREDDS Data Server](https://marble-dev01.pcic.uvic.ca/twitcher/ows/proxy/thredds/catalog.html)\n",
    "- Birds (links provided are for `birdy.WPSClient`):\n",
    "    - Daily Climate Downscaling: [`Chickadee`](https://marble-dev01.pcic.uvic.ca/twitcher/ows/proxy/chickadee/wps)\n",
    "    - RVIC Streamflow Routing Model: [`Osprey`](https://marble-dev01.pcic.uvic.ca/twitcher/ows/proxy/osprey/wps)\n",
    "    - Compute ETCCDI Climdex indices: [`Quail`](https://marble-dev01.pcic.uvic.ca/twitcher/ows/proxy/quail/wps)\n",
    "    - Resolve Climate Impacts rules: [`Sandpiper`](https://marble-dev01.pcic.uvic.ca/twitcher/ows/proxy/sandpiper/wps)\n",
    "    - CE Data Preparation Tools: [`Thunderbird`](https://marble-dev01.pcic.uvic.ca/twitcher/ows/proxy/thunderbird/wps)\n",
    "    \n",
    "These servers are intended to be accessed through a programming environment. More precisely, analytical services can be accessed through a Web Processing Services (WPS) Application Programming Interface (API). To facilitate the integration of these WPS processes into typical scientific workflows, we suggest using the high-level Python client library (`birdy.WPSClient`).\n",
    "\n",
    "The public demo account on the login page of this JupyterLab is not meant as a production environment. It is a public account with no private directory and limited computing resources. Your files are public, can be seen by the rest of the world and can be reset at anytime. Use it to explore the system's capability and see whether it may be useful to your work.\n",
    "\n",
    "You can request personal account by contacting the email on the login page. With a personal account, you will have a production environment with private workspace and no computing resource limitation."
   ]
  },
  {
   "cell_type": "markdown",
   "metadata": {},
   "source": [
    "## Example: Calculating climatology"
   ]
  },
  {
   "cell_type": "code",
   "execution_count": null,
   "metadata": {
    "tags": []
   },
   "outputs": [],
   "source": [
    "# Open the connection to WPS server\n",
    "import os\n",
    "from birdy import WPSClient\n",
    "host = os.getenv(\"BIRDHOUSE_HOST_URL\")\n",
    "thunderbird = WPSClient(f\"{host}/twitcher/ows/proxy/thunderbird/wps\")"
   ]
  },
  {
   "cell_type": "code",
   "execution_count": null,
   "metadata": {
    "tags": []
   },
   "outputs": [],
   "source": [
    "# Launch the process by feeding the process a dataset\n",
    "dataset = f\"{host}/twitcher/ows/proxy/thredds/dodsC/datasets/storage/data/projects/comp_support/daccs/test-data/gdd_annual_CanESM2_rcp85_r1i1p1_1951-2100.nc\"\n",
    "resp = thunderbird.generate_climos(\n",
    "    netcdf=dataset,\n",
    "    operation=\"mean\",\n",
    "    climo=\"6190\",\n",
    "    resolutions=\"yearly\",\n",
    "    dry_run=False\n",
    ")"
   ]
  },
  {
   "cell_type": "code",
   "execution_count": null,
   "metadata": {
    "tags": []
   },
   "outputs": [],
   "source": [
    "# Inspect the response\n",
    "output, = resp.get()\n",
    "output"
   ]
  },
  {
   "cell_type": "markdown",
   "metadata": {},
   "source": [
    "The output of the process is stored on the server. You may reuse this link as an input to another process, or open it locally."
   ]
  },
  {
   "cell_type": "code",
   "execution_count": null,
   "metadata": {
    "tags": []
   },
   "outputs": [],
   "source": [
    "output, = resp.get(asobj=True)\n",
    "output"
   ]
  },
  {
   "cell_type": "markdown",
   "metadata": {},
   "source": [
    "## Next Steps\n",
    "Want to check out what other neat stuff it can do? The `?` will get you the description of each process available (`wps.process?` or `thunderbird.generate_climos?`).\n",
    "\n",
    "If you have any problem, try checking out the [documentation](https://pavics-sdi.readthedocs.io/en/latest/)."
   ]
  }
 ],
 "metadata": {
  "kernelspec": {
   "display_name": "Python 3 (ipykernel)",
   "language": "python",
   "name": "python3"
  },
  "language_info": {
   "codemirror_mode": {
    "name": "ipython",
    "version": 3
   },
   "file_extension": ".py",
   "mimetype": "text/x-python",
   "name": "python",
   "nbconvert_exporter": "python",
   "pygments_lexer": "ipython3",
   "version": "3.9.16"
  }
 },
 "nbformat": 4,
 "nbformat_minor": 4
}
